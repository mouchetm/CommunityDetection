{
 "cells": [
  {
   "cell_type": "markdown",
   "metadata": {},
   "source": [
    "# This notebook compare the different clustering algorithms"
   ]
  },
  {
   "cell_type": "code",
   "execution_count": 1,
   "metadata": {
    "collapsed": false
   },
   "outputs": [
    {
     "name": "stdout",
     "output_type": "stream",
     "text": [
      "Populating the interactive namespace from numpy and matplotlib\n"
     ]
    }
   ],
   "source": [
    "%pylab inline"
   ]
  },
  {
   "cell_type": "code",
   "execution_count": 2,
   "metadata": {
    "collapsed": true
   },
   "outputs": [],
   "source": [
    "from utils import *"
   ]
  },
  {
   "cell_type": "code",
   "execution_count": 3,
   "metadata": {
    "collapsed": true
   },
   "outputs": [],
   "source": [
    "import os\n",
    "import pandas as pd\n",
    "import time"
   ]
  },
  {
   "cell_type": "code",
   "execution_count": 4,
   "metadata": {
    "collapsed": true
   },
   "outputs": [],
   "source": [
    "from tqdm import tqdm_notebook"
   ]
  },
  {
   "cell_type": "markdown",
   "metadata": {},
   "source": [
    "## For a simple SBM graph"
   ]
  },
  {
   "cell_type": "code",
   "execution_count": 5,
   "metadata": {
    "collapsed": true
   },
   "outputs": [],
   "source": [
    "paths_to_graphs = ['../data/simple_sbm1/', '../data/simple_sbm2/','../data/complex_sbm1/','../data/complex_sbm2/']"
   ]
  },
  {
   "cell_type": "code",
   "execution_count": 6,
   "metadata": {
    "collapsed": false
   },
   "outputs": [],
   "source": [
    "res = []"
   ]
  },
  {
   "cell_type": "code",
   "execution_count": 19,
   "metadata": {
    "collapsed": true
   },
   "outputs": [],
   "source": [
    "nb_clusters = 3\n",
    "number_of_rounds = 1"
   ]
  },
  {
   "cell_type": "code",
   "execution_count": 8,
   "metadata": {
    "collapsed": false
   },
   "outputs": [
    {
     "name": "stdout",
     "output_type": "stream",
     "text": [
      "\n",
      "\n",
      "\n",
      "\n"
     ]
    }
   ],
   "source": [
    "for round_number in range(0, number_of_rounds):\n",
    "    for path in paths_to_graphs:\n",
    "        graphs = os.listdir(path)\n",
    "        for graph in tqdm_notebook(graphs) : \n",
    "            adjency = np.load(path + graph)\n",
    "            \"\"\"\n",
    "            First classical spherical clustering based on Laplacian\n",
    "            \"\"\"\n",
    "            for norm in ['sym', 'rw', None]:\n",
    "                t1 = time.clock()\n",
    "                clusters = spectral_clustering(adjency,nb_clusters, laplacian_normalization=norm)\n",
    "                tot_time = time.clock() - t1\n",
    "                acc = accuracy_clustering(clusters, 3*[1000])\n",
    "                res.append({'name' : graph, 'norm': str(norm), 'accuracy': acc, 'time':tot_time, \n",
    "                            'input_graph' : 'Laplacian', 'algo' : 'Kmeans', 'source' : path})\n",
    "            \"\"\"\n",
    "            Clustering based on the adjency matrix : \n",
    "            - Kmeans\n",
    "            - Spherical Kmeans\n",
    "            \"\"\"\n",
    "            t1 = time.clock()\n",
    "            clusters = spherical_clustering_from_adjency(adjency, nb_clusters)\n",
    "            tot_time = time.clock() - t1\n",
    "            acc = accuracy_clustering(clusters, 3*[1000])\n",
    "            res.append({'name' : graph, 'norm': str(None), 'accuracy': acc, 'time':tot_time,\n",
    "                        'input_graph' : 'Adjency', 'algo' : 'Spherical-Kmeans','source' : path})\n",
    "            t1 = time.clock()\n",
    "            clusters = clustering_from_adjency(adjency, nb_clusters)\n",
    "            tot_time = time.clock() - t1\n",
    "            acc = accuracy_clustering(clusters, 3*[1000])\n",
    "            res.append({'name' : graph, 'norm': str(None), 'accuracy': acc, 'time':tot_time,\n",
    "                        'input_graph' : 'Adjency', 'algo' : 'Kmeans', 'source' : path})\n",
    "        "
   ]
  },
  {
   "cell_type": "code",
   "execution_count": 15,
   "metadata": {
    "collapsed": false
   },
   "outputs": [],
   "source": [
    "final_results = pd.read_json('./res_2_clusters.json').drop('round', axis = 1)"
   ]
  },
  {
   "cell_type": "code",
   "execution_count": 7,
   "metadata": {
    "collapsed": false
   },
   "outputs": [
    {
     "ename": "NameError",
     "evalue": "name 'res' is not defined",
     "output_type": "error",
     "traceback": [
      "\u001b[0;31m---------------------------------------------------------------------------\u001b[0m",
      "\u001b[0;31mNameError\u001b[0m                                 Traceback (most recent call last)",
      "\u001b[0;32m<ipython-input-7-430509e2546c>\u001b[0m in \u001b[0;36m<module>\u001b[0;34m()\u001b[0m\n\u001b[0;32m----> 1\u001b[0;31m \u001b[0mfinal_results\u001b[0m \u001b[0;34m=\u001b[0m \u001b[0mpd\u001b[0m\u001b[0;34m.\u001b[0m\u001b[0mDataFrame\u001b[0m\u001b[0;34m.\u001b[0m\u001b[0mfrom_records\u001b[0m\u001b[0;34m(\u001b[0m\u001b[0mres\u001b[0m\u001b[0;34m)\u001b[0m\u001b[0;34m.\u001b[0m\u001b[0mdrop\u001b[0m\u001b[0;34m(\u001b[0m\u001b[0;34m'round'\u001b[0m\u001b[0;34m)\u001b[0m\u001b[0;34m\u001b[0m\u001b[0m\n\u001b[0m",
      "\u001b[0;31mNameError\u001b[0m: name 'res' is not defined"
     ]
    }
   ],
   "source": [
    "final_results = pd.DataFrame.from_records(res)"
   ]
  },
  {
   "cell_type": "code",
   "execution_count": 16,
   "metadata": {
    "collapsed": false
   },
   "outputs": [
    {
     "data": {
      "text/html": [
       "<div>\n",
       "<table border=\"1\" class=\"dataframe\">\n",
       "  <thead>\n",
       "    <tr style=\"text-align: right;\">\n",
       "      <th></th>\n",
       "      <th>accuracy</th>\n",
       "      <th>algo</th>\n",
       "      <th>input_graph</th>\n",
       "      <th>name</th>\n",
       "      <th>norm</th>\n",
       "      <th>source</th>\n",
       "      <th>time</th>\n",
       "    </tr>\n",
       "  </thead>\n",
       "  <tbody>\n",
       "    <tr>\n",
       "      <th>0</th>\n",
       "      <td>1.0</td>\n",
       "      <td>Kmeans</td>\n",
       "      <td>Laplacian</td>\n",
       "      <td>matrix_49.npy</td>\n",
       "      <td>sym</td>\n",
       "      <td>../data/simple_sbm1/</td>\n",
       "      <td>0.527315</td>\n",
       "    </tr>\n",
       "    <tr>\n",
       "      <th>1</th>\n",
       "      <td>1.0</td>\n",
       "      <td>Kmeans</td>\n",
       "      <td>Laplacian</td>\n",
       "      <td>matrix_49.npy</td>\n",
       "      <td>rw</td>\n",
       "      <td>../data/simple_sbm1/</td>\n",
       "      <td>1.913224</td>\n",
       "    </tr>\n",
       "    <tr>\n",
       "      <th>10</th>\n",
       "      <td>1.0</td>\n",
       "      <td>Kmeans</td>\n",
       "      <td>Laplacian</td>\n",
       "      <td>matrix_28.npy</td>\n",
       "      <td>sym</td>\n",
       "      <td>../data/simple_sbm1/</td>\n",
       "      <td>1.816381</td>\n",
       "    </tr>\n",
       "    <tr>\n",
       "      <th>100</th>\n",
       "      <td>1.0</td>\n",
       "      <td>Kmeans</td>\n",
       "      <td>Laplacian</td>\n",
       "      <td>matrix_45.npy</td>\n",
       "      <td>sym</td>\n",
       "      <td>../data/simple_sbm1/</td>\n",
       "      <td>0.930318</td>\n",
       "    </tr>\n",
       "    <tr>\n",
       "      <th>1000</th>\n",
       "      <td>1.0</td>\n",
       "      <td>Kmeans</td>\n",
       "      <td>Laplacian</td>\n",
       "      <td>matrix_49.npy</td>\n",
       "      <td>sym</td>\n",
       "      <td>../data/simple_sbm1/</td>\n",
       "      <td>0.884655</td>\n",
       "    </tr>\n",
       "    <tr>\n",
       "      <th>1001</th>\n",
       "      <td>1.0</td>\n",
       "      <td>Kmeans</td>\n",
       "      <td>Laplacian</td>\n",
       "      <td>matrix_49.npy</td>\n",
       "      <td>rw</td>\n",
       "      <td>../data/simple_sbm1/</td>\n",
       "      <td>2.086665</td>\n",
       "    </tr>\n",
       "    <tr>\n",
       "      <th>1002</th>\n",
       "      <td>1.0</td>\n",
       "      <td>Kmeans</td>\n",
       "      <td>Laplacian</td>\n",
       "      <td>matrix_49.npy</td>\n",
       "      <td>None</td>\n",
       "      <td>../data/simple_sbm1/</td>\n",
       "      <td>1.460389</td>\n",
       "    </tr>\n",
       "    <tr>\n",
       "      <th>1003</th>\n",
       "      <td>0.5</td>\n",
       "      <td>Spherical-Kmeans</td>\n",
       "      <td>Adjency</td>\n",
       "      <td>matrix_49.npy</td>\n",
       "      <td>None</td>\n",
       "      <td>../data/simple_sbm1/</td>\n",
       "      <td>2.598611</td>\n",
       "    </tr>\n",
       "    <tr>\n",
       "      <th>1004</th>\n",
       "      <td>0.5</td>\n",
       "      <td>Kmeans</td>\n",
       "      <td>Adjency</td>\n",
       "      <td>matrix_49.npy</td>\n",
       "      <td>None</td>\n",
       "      <td>../data/simple_sbm1/</td>\n",
       "      <td>0.849183</td>\n",
       "    </tr>\n",
       "    <tr>\n",
       "      <th>1005</th>\n",
       "      <td>1.0</td>\n",
       "      <td>Kmeans</td>\n",
       "      <td>Laplacian</td>\n",
       "      <td>matrix_15.npy</td>\n",
       "      <td>sym</td>\n",
       "      <td>../data/simple_sbm1/</td>\n",
       "      <td>1.549060</td>\n",
       "    </tr>\n",
       "    <tr>\n",
       "      <th>1006</th>\n",
       "      <td>1.0</td>\n",
       "      <td>Kmeans</td>\n",
       "      <td>Laplacian</td>\n",
       "      <td>matrix_15.npy</td>\n",
       "      <td>rw</td>\n",
       "      <td>../data/simple_sbm1/</td>\n",
       "      <td>1.489777</td>\n",
       "    </tr>\n",
       "    <tr>\n",
       "      <th>1007</th>\n",
       "      <td>1.0</td>\n",
       "      <td>Kmeans</td>\n",
       "      <td>Laplacian</td>\n",
       "      <td>matrix_15.npy</td>\n",
       "      <td>None</td>\n",
       "      <td>../data/simple_sbm1/</td>\n",
       "      <td>2.109557</td>\n",
       "    </tr>\n",
       "    <tr>\n",
       "      <th>1008</th>\n",
       "      <td>0.5</td>\n",
       "      <td>Spherical-Kmeans</td>\n",
       "      <td>Adjency</td>\n",
       "      <td>matrix_15.npy</td>\n",
       "      <td>None</td>\n",
       "      <td>../data/simple_sbm1/</td>\n",
       "      <td>2.605705</td>\n",
       "    </tr>\n",
       "    <tr>\n",
       "      <th>1009</th>\n",
       "      <td>0.5</td>\n",
       "      <td>Kmeans</td>\n",
       "      <td>Adjency</td>\n",
       "      <td>matrix_15.npy</td>\n",
       "      <td>None</td>\n",
       "      <td>../data/simple_sbm1/</td>\n",
       "      <td>0.840625</td>\n",
       "    </tr>\n",
       "    <tr>\n",
       "      <th>101</th>\n",
       "      <td>1.0</td>\n",
       "      <td>Kmeans</td>\n",
       "      <td>Laplacian</td>\n",
       "      <td>matrix_45.npy</td>\n",
       "      <td>rw</td>\n",
       "      <td>../data/simple_sbm1/</td>\n",
       "      <td>1.423177</td>\n",
       "    </tr>\n",
       "    <tr>\n",
       "      <th>1010</th>\n",
       "      <td>1.0</td>\n",
       "      <td>Kmeans</td>\n",
       "      <td>Laplacian</td>\n",
       "      <td>matrix_28.npy</td>\n",
       "      <td>sym</td>\n",
       "      <td>../data/simple_sbm1/</td>\n",
       "      <td>1.369082</td>\n",
       "    </tr>\n",
       "    <tr>\n",
       "      <th>1011</th>\n",
       "      <td>1.0</td>\n",
       "      <td>Kmeans</td>\n",
       "      <td>Laplacian</td>\n",
       "      <td>matrix_28.npy</td>\n",
       "      <td>rw</td>\n",
       "      <td>../data/simple_sbm1/</td>\n",
       "      <td>1.947659</td>\n",
       "    </tr>\n",
       "    <tr>\n",
       "      <th>1012</th>\n",
       "      <td>1.0</td>\n",
       "      <td>Kmeans</td>\n",
       "      <td>Laplacian</td>\n",
       "      <td>matrix_28.npy</td>\n",
       "      <td>None</td>\n",
       "      <td>../data/simple_sbm1/</td>\n",
       "      <td>1.410419</td>\n",
       "    </tr>\n",
       "    <tr>\n",
       "      <th>1013</th>\n",
       "      <td>0.5</td>\n",
       "      <td>Spherical-Kmeans</td>\n",
       "      <td>Adjency</td>\n",
       "      <td>matrix_28.npy</td>\n",
       "      <td>None</td>\n",
       "      <td>../data/simple_sbm1/</td>\n",
       "      <td>2.514839</td>\n",
       "    </tr>\n",
       "    <tr>\n",
       "      <th>1014</th>\n",
       "      <td>0.5</td>\n",
       "      <td>Kmeans</td>\n",
       "      <td>Adjency</td>\n",
       "      <td>matrix_28.npy</td>\n",
       "      <td>None</td>\n",
       "      <td>../data/simple_sbm1/</td>\n",
       "      <td>0.770137</td>\n",
       "    </tr>\n",
       "  </tbody>\n",
       "</table>\n",
       "</div>"
      ],
      "text/plain": [
       "      accuracy              algo input_graph           name  norm  \\\n",
       "0          1.0            Kmeans   Laplacian  matrix_49.npy   sym   \n",
       "1          1.0            Kmeans   Laplacian  matrix_49.npy    rw   \n",
       "10         1.0            Kmeans   Laplacian  matrix_28.npy   sym   \n",
       "100        1.0            Kmeans   Laplacian  matrix_45.npy   sym   \n",
       "1000       1.0            Kmeans   Laplacian  matrix_49.npy   sym   \n",
       "1001       1.0            Kmeans   Laplacian  matrix_49.npy    rw   \n",
       "1002       1.0            Kmeans   Laplacian  matrix_49.npy  None   \n",
       "1003       0.5  Spherical-Kmeans     Adjency  matrix_49.npy  None   \n",
       "1004       0.5            Kmeans     Adjency  matrix_49.npy  None   \n",
       "1005       1.0            Kmeans   Laplacian  matrix_15.npy   sym   \n",
       "1006       1.0            Kmeans   Laplacian  matrix_15.npy    rw   \n",
       "1007       1.0            Kmeans   Laplacian  matrix_15.npy  None   \n",
       "1008       0.5  Spherical-Kmeans     Adjency  matrix_15.npy  None   \n",
       "1009       0.5            Kmeans     Adjency  matrix_15.npy  None   \n",
       "101        1.0            Kmeans   Laplacian  matrix_45.npy    rw   \n",
       "1010       1.0            Kmeans   Laplacian  matrix_28.npy   sym   \n",
       "1011       1.0            Kmeans   Laplacian  matrix_28.npy    rw   \n",
       "1012       1.0            Kmeans   Laplacian  matrix_28.npy  None   \n",
       "1013       0.5  Spherical-Kmeans     Adjency  matrix_28.npy  None   \n",
       "1014       0.5            Kmeans     Adjency  matrix_28.npy  None   \n",
       "\n",
       "                    source      time  \n",
       "0     ../data/simple_sbm1/  0.527315  \n",
       "1     ../data/simple_sbm1/  1.913224  \n",
       "10    ../data/simple_sbm1/  1.816381  \n",
       "100   ../data/simple_sbm1/  0.930318  \n",
       "1000  ../data/simple_sbm1/  0.884655  \n",
       "1001  ../data/simple_sbm1/  2.086665  \n",
       "1002  ../data/simple_sbm1/  1.460389  \n",
       "1003  ../data/simple_sbm1/  2.598611  \n",
       "1004  ../data/simple_sbm1/  0.849183  \n",
       "1005  ../data/simple_sbm1/  1.549060  \n",
       "1006  ../data/simple_sbm1/  1.489777  \n",
       "1007  ../data/simple_sbm1/  2.109557  \n",
       "1008  ../data/simple_sbm1/  2.605705  \n",
       "1009  ../data/simple_sbm1/  0.840625  \n",
       "101   ../data/simple_sbm1/  1.423177  \n",
       "1010  ../data/simple_sbm1/  1.369082  \n",
       "1011  ../data/simple_sbm1/  1.947659  \n",
       "1012  ../data/simple_sbm1/  1.410419  \n",
       "1013  ../data/simple_sbm1/  2.514839  \n",
       "1014  ../data/simple_sbm1/  0.770137  "
      ]
     },
     "execution_count": 16,
     "metadata": {},
     "output_type": "execute_result"
    }
   ],
   "source": [
    "final_results.head(20)"
   ]
  },
  {
   "cell_type": "code",
   "execution_count": 17,
   "metadata": {
    "collapsed": false
   },
   "outputs": [],
   "source": [
    "final_output = final_results.groupby(['algo','input_graph','norm','source']).mean()"
   ]
  },
  {
   "cell_type": "code",
   "execution_count": 18,
   "metadata": {
    "collapsed": false
   },
   "outputs": [
    {
     "data": {
      "text/html": [
       "<div>\n",
       "<table border=\"1\" class=\"dataframe\">\n",
       "  <thead>\n",
       "    <tr style=\"text-align: right;\">\n",
       "      <th></th>\n",
       "      <th></th>\n",
       "      <th></th>\n",
       "      <th></th>\n",
       "      <th>accuracy</th>\n",
       "      <th>time</th>\n",
       "    </tr>\n",
       "    <tr>\n",
       "      <th>algo</th>\n",
       "      <th>input_graph</th>\n",
       "      <th>norm</th>\n",
       "      <th>source</th>\n",
       "      <th></th>\n",
       "      <th></th>\n",
       "    </tr>\n",
       "  </thead>\n",
       "  <tbody>\n",
       "    <tr>\n",
       "      <th rowspan=\"16\" valign=\"top\">Kmeans</th>\n",
       "      <th rowspan=\"4\" valign=\"top\">Adjency</th>\n",
       "      <th rowspan=\"4\" valign=\"top\">None</th>\n",
       "      <th>../data/complex_sbm1/</th>\n",
       "      <td>0.725036</td>\n",
       "      <td>0.935084</td>\n",
       "    </tr>\n",
       "    <tr>\n",
       "      <th>../data/complex_sbm2/</th>\n",
       "      <td>0.615032</td>\n",
       "      <td>0.938747</td>\n",
       "    </tr>\n",
       "    <tr>\n",
       "      <th>../data/simple_sbm1/</th>\n",
       "      <td>0.500000</td>\n",
       "      <td>0.892481</td>\n",
       "    </tr>\n",
       "    <tr>\n",
       "      <th>../data/simple_sbm2/</th>\n",
       "      <td>0.500000</td>\n",
       "      <td>0.937912</td>\n",
       "    </tr>\n",
       "    <tr>\n",
       "      <th rowspan=\"12\" valign=\"top\">Laplacian</th>\n",
       "      <th rowspan=\"4\" valign=\"top\">None</th>\n",
       "      <th>../data/complex_sbm1/</th>\n",
       "      <td>1.000000</td>\n",
       "      <td>2.144610</td>\n",
       "    </tr>\n",
       "    <tr>\n",
       "      <th>../data/complex_sbm2/</th>\n",
       "      <td>1.000000</td>\n",
       "      <td>2.335604</td>\n",
       "    </tr>\n",
       "    <tr>\n",
       "      <th>../data/simple_sbm1/</th>\n",
       "      <td>1.000000</td>\n",
       "      <td>2.152081</td>\n",
       "    </tr>\n",
       "    <tr>\n",
       "      <th>../data/simple_sbm2/</th>\n",
       "      <td>1.000000</td>\n",
       "      <td>2.352710</td>\n",
       "    </tr>\n",
       "    <tr>\n",
       "      <th rowspan=\"4\" valign=\"top\">rw</th>\n",
       "      <th>../data/complex_sbm1/</th>\n",
       "      <td>1.000000</td>\n",
       "      <td>2.194236</td>\n",
       "    </tr>\n",
       "    <tr>\n",
       "      <th>../data/complex_sbm2/</th>\n",
       "      <td>1.000000</td>\n",
       "      <td>1.974757</td>\n",
       "    </tr>\n",
       "    <tr>\n",
       "      <th>../data/simple_sbm1/</th>\n",
       "      <td>1.000000</td>\n",
       "      <td>2.062168</td>\n",
       "    </tr>\n",
       "    <tr>\n",
       "      <th>../data/simple_sbm2/</th>\n",
       "      <td>1.000000</td>\n",
       "      <td>2.117548</td>\n",
       "    </tr>\n",
       "    <tr>\n",
       "      <th rowspan=\"4\" valign=\"top\">sym</th>\n",
       "      <th>../data/complex_sbm1/</th>\n",
       "      <td>1.000000</td>\n",
       "      <td>1.822782</td>\n",
       "    </tr>\n",
       "    <tr>\n",
       "      <th>../data/complex_sbm2/</th>\n",
       "      <td>1.000000</td>\n",
       "      <td>1.717607</td>\n",
       "    </tr>\n",
       "    <tr>\n",
       "      <th>../data/simple_sbm1/</th>\n",
       "      <td>1.000000</td>\n",
       "      <td>1.614403</td>\n",
       "    </tr>\n",
       "    <tr>\n",
       "      <th>../data/simple_sbm2/</th>\n",
       "      <td>1.000000</td>\n",
       "      <td>1.711146</td>\n",
       "    </tr>\n",
       "    <tr>\n",
       "      <th rowspan=\"4\" valign=\"top\">Spherical-Kmeans</th>\n",
       "      <th rowspan=\"4\" valign=\"top\">Adjency</th>\n",
       "      <th rowspan=\"4\" valign=\"top\">None</th>\n",
       "      <th>../data/complex_sbm1/</th>\n",
       "      <td>0.713712</td>\n",
       "      <td>2.760795</td>\n",
       "    </tr>\n",
       "    <tr>\n",
       "      <th>../data/complex_sbm2/</th>\n",
       "      <td>0.597192</td>\n",
       "      <td>2.746250</td>\n",
       "    </tr>\n",
       "    <tr>\n",
       "      <th>../data/simple_sbm1/</th>\n",
       "      <td>0.500000</td>\n",
       "      <td>2.694521</td>\n",
       "    </tr>\n",
       "    <tr>\n",
       "      <th>../data/simple_sbm2/</th>\n",
       "      <td>0.500000</td>\n",
       "      <td>2.737877</td>\n",
       "    </tr>\n",
       "  </tbody>\n",
       "</table>\n",
       "</div>"
      ],
      "text/plain": [
       "                                                         accuracy      time\n",
       "algo             input_graph norm source                                   \n",
       "Kmeans           Adjency     None ../data/complex_sbm1/  0.725036  0.935084\n",
       "                                  ../data/complex_sbm2/  0.615032  0.938747\n",
       "                                  ../data/simple_sbm1/   0.500000  0.892481\n",
       "                                  ../data/simple_sbm2/   0.500000  0.937912\n",
       "                 Laplacian   None ../data/complex_sbm1/  1.000000  2.144610\n",
       "                                  ../data/complex_sbm2/  1.000000  2.335604\n",
       "                                  ../data/simple_sbm1/   1.000000  2.152081\n",
       "                                  ../data/simple_sbm2/   1.000000  2.352710\n",
       "                             rw   ../data/complex_sbm1/  1.000000  2.194236\n",
       "                                  ../data/complex_sbm2/  1.000000  1.974757\n",
       "                                  ../data/simple_sbm1/   1.000000  2.062168\n",
       "                                  ../data/simple_sbm2/   1.000000  2.117548\n",
       "                             sym  ../data/complex_sbm1/  1.000000  1.822782\n",
       "                                  ../data/complex_sbm2/  1.000000  1.717607\n",
       "                                  ../data/simple_sbm1/   1.000000  1.614403\n",
       "                                  ../data/simple_sbm2/   1.000000  1.711146\n",
       "Spherical-Kmeans Adjency     None ../data/complex_sbm1/  0.713712  2.760795\n",
       "                                  ../data/complex_sbm2/  0.597192  2.746250\n",
       "                                  ../data/simple_sbm1/   0.500000  2.694521\n",
       "                                  ../data/simple_sbm2/   0.500000  2.737877"
      ]
     },
     "execution_count": 18,
     "metadata": {},
     "output_type": "execute_result"
    }
   ],
   "source": [
    "final_output"
   ]
  },
  {
   "cell_type": "code",
   "execution_count": 24,
   "metadata": {
    "collapsed": false
   },
   "outputs": [],
   "source": [
    "final_output.to_json('res.json')"
   ]
  },
  {
   "cell_type": "code",
   "execution_count": 23,
   "metadata": {
    "collapsed": false
   },
   "outputs": [
    {
     "name": "stdout",
     "output_type": "stream",
     "text": [
      "None\n"
     ]
    }
   ],
   "source": [
    "print final_output.to_latex('res.json')"
   ]
  },
  {
   "cell_type": "code",
   "execution_count": 19,
   "metadata": {
    "collapsed": false
   },
   "outputs": [
    {
     "name": "stdout",
     "output_type": "stream",
     "text": [
      "\\begin{tabular}{llllrr}\n",
      "\\toprule\n",
      "       &         &      &                       &  accuracy &      time \\\\\n",
      "algo & input\\_graph & norm & source &           &           \\\\\n",
      "\\midrule\n",
      "Kmeans & Adjency & None & ../data/complex\\_sbm1/ &  0.725036 &  0.935084 \\\\\n",
      "       &         &      & ../data/complex\\_sbm2/ &  0.615032 &  0.938747 \\\\\n",
      "       &         &      & ../data/simple\\_sbm1/ &  0.500000 &  0.892481 \\\\\n",
      "       &         &      & ../data/simple\\_sbm2/ &  0.500000 &  0.937912 \\\\\n",
      "       & Laplacian &      & ../data/complex\\_sbm1/ &  1.000000 &  2.144610 \\\\\n",
      "       &         &      & ../data/complex\\_sbm2/ &  1.000000 &  2.335604 \\\\\n",
      "       &         &      & ../data/simple\\_sbm1/ &  1.000000 &  2.152081 \\\\\n",
      "       &         &      & ../data/simple\\_sbm2/ &  1.000000 &  2.352710 \\\\\n",
      "       &         & rw & ../data/complex\\_sbm1/ &  1.000000 &  2.194236 \\\\\n",
      "       &         &      & ../data/complex\\_sbm2/ &  1.000000 &  1.974757 \\\\\n",
      "       &         &      & ../data/simple\\_sbm1/ &  1.000000 &  2.062168 \\\\\n",
      "       &         &      & ../data/simple\\_sbm2/ &  1.000000 &  2.117548 \\\\\n",
      "       &         & sym & ../data/complex\\_sbm1/ &  1.000000 &  1.822782 \\\\\n",
      "       &         &      & ../data/complex\\_sbm2/ &  1.000000 &  1.717607 \\\\\n",
      "       &         &      & ../data/simple\\_sbm1/ &  1.000000 &  1.614403 \\\\\n",
      "       &         &      & ../data/simple\\_sbm2/ &  1.000000 &  1.711146 \\\\\n",
      "Spherical-Kmeans & Adjency & None & ../data/complex\\_sbm1/ &  0.713712 &  2.760795 \\\\\n",
      "       &         &      & ../data/complex\\_sbm2/ &  0.597192 &  2.746250 \\\\\n",
      "       &         &      & ../data/simple\\_sbm1/ &  0.500000 &  2.694521 \\\\\n",
      "       &         &      & ../data/simple\\_sbm2/ &  0.500000 &  2.737877 \\\\\n",
      "\\bottomrule\n",
      "\\end{tabular}\n",
      "\n"
     ]
    }
   ],
   "source": [
    "print final_output.to_latex()"
   ]
  },
  {
   "cell_type": "code",
   "execution_count": 7,
   "metadata": {
    "collapsed": false
   },
   "outputs": [
    {
     "name": "stdout",
     "output_type": "stream",
     "text": [
      "\n",
      "\n",
      "\n",
      "\n"
     ]
    }
   ],
   "source": [
    "nb_clusters = 2\n",
    "number_of_rounds = 1\n",
    "\n",
    "for round_number in range(0, number_of_rounds):\n",
    "    for path in paths_to_graphs:\n",
    "        graphs = os.listdir(path)\n",
    "        for graph in tqdm_notebook(graphs) :\n",
    "            adjency = np.load(path + graph)\n",
    "            \"\"\"\n",
    "            First classical spherical clustering based on Laplacian\n",
    "            \"\"\"\n",
    "            for norm in ['sym', 'rw', None]:\n",
    "                t1 = time.clock()\n",
    "                clusters = spectral_clustering(adjency,nb_clusters, laplacian_normalization=norm)\n",
    "                tot_time = time.clock() - t1\n",
    "                acc = accuracy_clustering(clusters, nb_clusters*[1000])\n",
    "                res.append({'name' : graph, 'norm': str(norm), 'accuracy': acc, 'time':tot_time,\n",
    "                            'input_graph' : 'Laplacian', 'algo' : 'Kmeans', 'source' : path,\n",
    "                            'round' : str(round_number)})\n",
    "            \"\"\"\n",
    "            Clustering based on the adjency matrix :\n",
    "            - Kmeans\n",
    "            - Spherical Kmeans\n",
    "            \"\"\"\n",
    "            t1 = time.clock()\n",
    "            clusters = spherical_clustering_from_adjency(adjency, nb_clusters)\n",
    "            tot_time = time.clock() - t1\n",
    "            acc = accuracy_clustering(clusters, nb_clusters*[1000])\n",
    "            res.append({'name' : graph, 'norm': str(None), 'accuracy': acc, 'time':tot_time,\n",
    "                        'input_graph' : 'Adjency', 'algo' : 'Spherical-Kmeans','source' : path,\n",
    "                        'round' : str(round_number)})\n",
    "            t1 = time.clock()\n",
    "            clusters = clustering_from_adjency(adjency, nb_clusters)\n",
    "            tot_time = time.clock() - t1\n",
    "            acc = accuracy_clustering(clusters, nb_clusters*[1000])\n",
    "            res.append({'name' : graph, 'norm': str(None), 'accuracy': acc, 'time':tot_time,\n",
    "                        'input_graph' : 'Adjency', 'algo' : 'Kmeans', 'source' : path,\n",
    "                        'round' : str(round_number)})"
   ]
  },
  {
   "cell_type": "code",
   "execution_count": 8,
   "metadata": {
    "collapsed": true
   },
   "outputs": [],
   "source": [
    "f = pd.DataFrame.from_records(res)"
   ]
  },
  {
   "cell_type": "code",
   "execution_count": 9,
   "metadata": {
    "collapsed": false
   },
   "outputs": [
    {
     "data": {
      "text/html": [
       "<div>\n",
       "<table border=\"1\" class=\"dataframe\">\n",
       "  <thead>\n",
       "    <tr style=\"text-align: right;\">\n",
       "      <th></th>\n",
       "      <th>accuracy</th>\n",
       "      <th>algo</th>\n",
       "      <th>input_graph</th>\n",
       "      <th>name</th>\n",
       "      <th>norm</th>\n",
       "      <th>round</th>\n",
       "      <th>source</th>\n",
       "      <th>time</th>\n",
       "    </tr>\n",
       "  </thead>\n",
       "  <tbody>\n",
       "    <tr>\n",
       "      <th>0</th>\n",
       "      <td>1.0</td>\n",
       "      <td>Kmeans</td>\n",
       "      <td>Laplacian</td>\n",
       "      <td>matrix_49.npy</td>\n",
       "      <td>sym</td>\n",
       "      <td>0</td>\n",
       "      <td>../data/simple_sbm1/</td>\n",
       "      <td>0.480049</td>\n",
       "    </tr>\n",
       "    <tr>\n",
       "      <th>1</th>\n",
       "      <td>1.0</td>\n",
       "      <td>Kmeans</td>\n",
       "      <td>Laplacian</td>\n",
       "      <td>matrix_49.npy</td>\n",
       "      <td>rw</td>\n",
       "      <td>0</td>\n",
       "      <td>../data/simple_sbm1/</td>\n",
       "      <td>1.902022</td>\n",
       "    </tr>\n",
       "    <tr>\n",
       "      <th>2</th>\n",
       "      <td>1.0</td>\n",
       "      <td>Kmeans</td>\n",
       "      <td>Laplacian</td>\n",
       "      <td>matrix_49.npy</td>\n",
       "      <td>None</td>\n",
       "      <td>0</td>\n",
       "      <td>../data/simple_sbm1/</td>\n",
       "      <td>1.889271</td>\n",
       "    </tr>\n",
       "    <tr>\n",
       "      <th>3</th>\n",
       "      <td>0.5</td>\n",
       "      <td>Spherical-Kmeans</td>\n",
       "      <td>Adjency</td>\n",
       "      <td>matrix_49.npy</td>\n",
       "      <td>None</td>\n",
       "      <td>0</td>\n",
       "      <td>../data/simple_sbm1/</td>\n",
       "      <td>2.449930</td>\n",
       "    </tr>\n",
       "    <tr>\n",
       "      <th>4</th>\n",
       "      <td>0.5</td>\n",
       "      <td>Kmeans</td>\n",
       "      <td>Adjency</td>\n",
       "      <td>matrix_49.npy</td>\n",
       "      <td>None</td>\n",
       "      <td>0</td>\n",
       "      <td>../data/simple_sbm1/</td>\n",
       "      <td>0.689414</td>\n",
       "    </tr>\n",
       "  </tbody>\n",
       "</table>\n",
       "</div>"
      ],
      "text/plain": [
       "   accuracy              algo input_graph           name  norm round  \\\n",
       "0       1.0            Kmeans   Laplacian  matrix_49.npy   sym     0   \n",
       "1       1.0            Kmeans   Laplacian  matrix_49.npy    rw     0   \n",
       "2       1.0            Kmeans   Laplacian  matrix_49.npy  None     0   \n",
       "3       0.5  Spherical-Kmeans     Adjency  matrix_49.npy  None     0   \n",
       "4       0.5            Kmeans     Adjency  matrix_49.npy  None     0   \n",
       "\n",
       "                 source      time  \n",
       "0  ../data/simple_sbm1/  0.480049  \n",
       "1  ../data/simple_sbm1/  1.902022  \n",
       "2  ../data/simple_sbm1/  1.889271  \n",
       "3  ../data/simple_sbm1/  2.449930  \n",
       "4  ../data/simple_sbm1/  0.689414  "
      ]
     },
     "execution_count": 9,
     "metadata": {},
     "output_type": "execute_result"
    }
   ],
   "source": [
    "f.head()"
   ]
  },
  {
   "cell_type": "code",
   "execution_count": null,
   "metadata": {
    "collapsed": true
   },
   "outputs": [],
   "source": []
  }
 ],
 "metadata": {
  "anaconda-cloud": {},
  "kernelspec": {
   "display_name": "Python [conda root]",
   "language": "python",
   "name": "conda-root-py"
  },
  "language_info": {
   "codemirror_mode": {
    "name": "ipython",
    "version": 2
   },
   "file_extension": ".py",
   "mimetype": "text/x-python",
   "name": "python",
   "nbconvert_exporter": "python",
   "pygments_lexer": "ipython2",
   "version": "2.7.12"
  }
 },
 "nbformat": 4,
 "nbformat_minor": 2
}
